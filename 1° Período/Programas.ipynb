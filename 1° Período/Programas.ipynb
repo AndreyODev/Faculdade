{
 "cells": [
  {
   "cell_type": "code",
   "execution_count": 16,
   "metadata": {},
   "outputs": [
    {
     "name": "stdout",
     "output_type": "stream",
     "text": [
      "2\n",
      "4\n",
      "6\n",
      "8\n",
      "10\n",
      "12\n",
      "14\n",
      "16\n",
      "18\n",
      "20\n"
     ]
    }
   ],
   "source": [
    "#1) Crie um programa que imprime de 2 a 20,\n",
    "#sendo que ele deve imprimir de dois em dois.\n",
    "\n",
    "for i in range(2, 21, 2):\n",
    "    print(i)"
   ]
  },
  {
   "cell_type": "code",
   "execution_count": 15,
   "metadata": {},
   "outputs": [
    {
     "name": "stdout",
     "output_type": "stream",
     "text": [
      "3\n",
      "6\n",
      "9\n",
      "12\n",
      "15\n"
     ]
    }
   ],
   "source": [
    "#Crie um programa que imprime de 3 a 15,\n",
    "#sendo que ele deve imprimir de 3 em 3.\n",
    "\n",
    "for i in range(3, 16, 3):\n",
    "    print(i)"
   ]
  },
  {
   "cell_type": "code",
   "execution_count": 23,
   "metadata": {},
   "outputs": [
    {
     "name": "stdout",
     "output_type": "stream",
     "text": [
      "['Japão', 'Panamá', 'Argentina', 'Bolivia', 'Canadá', 'China']\n",
      "['Inglaterra', 'Japão', 'Panamá', 'Argentina', 'Bolivia', 'Canadá', 'China']\n",
      "['Inglaterra', 'Japão', 'Panamá', 'Bolivia', 'Canadá', 'China']\n",
      "['Inglaterra', 'Japão', 'Panamá', 'Bolivia', 'Canadá', 'China', 'México']\n",
      "['Inglaterra', 'Japão', 'Panamá', 'Bolivia', 'Canadá', 'China', 'México', 'Russia', 'Africa do Sul']\n"
     ]
    }
   ],
   "source": [
    "#3) a)Adicione nessa lista o país Inglaterra\n",
    "# como primeira viagem.\n",
    "# b) Exclua Argentina do roteiro de viagem.\n",
    "# c) Adicione México nas viagens\n",
    "# viagem = ['Japão', 'Panamá', 'Argentina',\n",
    "# 'Bolivia','Canadá', 'China']\n",
    "\n",
    "viagem = ['Japão', 'Panamá', 'Argentina',\n",
    "'Bolivia','Canadá', 'China']\n",
    "print(viagem)\n",
    "viagem.insert(0,'Inglaterra')\n",
    "print(viagem)\n",
    "viagem.remove('Argentina')\n",
    "print(viagem)\n",
    "viagem.append('México')\n",
    "print(viagem)\n",
    "novos_paises = ['Russia','Africa do Sul']\n",
    "viagem.extend(novos_paises)\n",
    "print(viagem)\n"
   ]
  },
  {
   "cell_type": "code",
   "execution_count": 54,
   "metadata": {},
   "outputs": [
    {
     "name": "stdout",
     "output_type": "stream",
     "text": [
      "1\n",
      "1\n",
      "1\n",
      "1\n",
      "1\n",
      "1\n",
      "2\n",
      "3\n",
      "4\n",
      "5\n",
      "6\n",
      "7\n",
      "8\n"
     ]
    }
   ],
   "source": [
    "#Crie um programa que irá Informar a média da turma e a\n",
    "#quantidade de notas menores ou igual a 7.\n",
    "# Vão informar quantos estão reprovados e quantos estão\n",
    "#aprovados\n",
    "notas = [0, 10, 10, 10, 9, 8, 5, 4, 2, 6, 6, 5, 4]\n",
    "notaInd = 7\n",
    "c = 0\n",
    "soma = sum(notas) \n",
    "qnotas = len(notas)\n",
    "media = soma/qnotas\n",
    "for notas in notas:\n",
    "    if nota <= notaInd:\n",
    "        c +=1 \n",
    "    print(c) \n"
   ]
  }
 ],
 "metadata": {
  "kernelspec": {
   "display_name": "base",
   "language": "python",
   "name": "python3"
  },
  "language_info": {
   "codemirror_mode": {
    "name": "ipython",
    "version": 3
   },
   "file_extension": ".py",
   "mimetype": "text/x-python",
   "name": "python",
   "nbconvert_exporter": "python",
   "pygments_lexer": "ipython3",
   "version": "3.11.7"
  }
 },
 "nbformat": 4,
 "nbformat_minor": 2
}
